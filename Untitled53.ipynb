{
 "cells": [
  {
   "cell_type": "markdown",
   "id": "75d7356c",
   "metadata": {},
   "source": [
    "# Assignment 1"
   ]
  },
  {
   "cell_type": "markdown",
   "id": "7a3d48f5",
   "metadata": {},
   "source": [
    "### Q.1 In the below elements which of them are values or an expression? eg:- values can be integer or string and expressions will be mathematical operators.\n",
    "\n",
    "Ans. 'hello',6,-87.8 are the values\n",
    "      *,-,/,+ are the expressions(mathematical operators)"
   ]
  },
  {
   "cell_type": "markdown",
   "id": "5532c65f",
   "metadata": {},
   "source": [
    "### Q.2 What is the difference between string and variable?\n",
    "Ans. String: string is just a data type   A string is written between single quotes (“) or double quotes(\"\"). In addition to letters, they can also include numbers, spaces, punctuation, and even line breaks. Eg.(\"hgjhkkeajkhhjjskdjhjhdk\")\n",
    "\n",
    "variables:\n",
    "Variables are used to store values. Eg.a=10, meaning that a memory address is allocated to store the value 10 here a is variable which is used to store the value of 10 when you re-assign using a = 20, the value in the corresponding memory address will be changed to 20. Thus, you can think of variable as an identifier to play around with a value that is created and stored in a memory location. A variable can be of several types like integer, string, float, etc. based on the value you assign to it."
   ]
  },
  {
   "cell_type": "markdown",
   "id": "1c074183",
   "metadata": {},
   "source": [
    "### Q.3 Describe three Data types?"
   ]
  },
  {
   "cell_type": "markdown",
   "id": "698f4f9e",
   "metadata": {},
   "source": [
    "Numeric – Numeric data types in Python represent data with a numeric value. Integers, floating numbers, and even complex numbers can be used as numerical values. In Python, these values are represented by the int, float, and complex classes.\n",
    "For example : a = 10 , b= 20\n",
    "\n",
    "Dictionary – In Python, a dictionary is an unordered collection of data values that may be used to store data values. Unlike other Data Types that only carry a single value as an element, Dictionary holds a key:value pair. The dictionary includes a key-value pair to make it more efficient. A colon : separates each key-value pair in a Dictionary, whereas each key is separated by a comma.\n",
    "For example: dictionary = {‘name’: ‘sumit’, ‘dept’: ‘IT’}\n",
    "\n",
    " Set – Set is an unordered data type collection that is iterable, changeable, and has no duplicate elements in Python. The order of elements in a set is indefinite, even if it contains a variety of them.\n",
    "For example: Str = ‘Welcome User!’"
   ]
  },
  {
   "cell_type": "markdown",
   "id": "09dfa077",
   "metadata": {},
   "source": [
    "### Q.4 What is an expression made up of? What do all expressions do?"
   ]
  },
  {
   "cell_type": "markdown",
   "id": "cad3b1f5",
   "metadata": {},
   "source": [
    "Ans. An expression is made up of variables,operators,methods,values and calls to functions eg.2+2 is an expression, in this 2s are integer values and + is the mathematical operator. An expression is a combination of operators and operands inorder to produce some other value Eg:1+2=3\n",
    "Examples of Expressions\n",
    "'hello World’ - this is a string \n",
    "23.6 - this is a floating point \n",
    "{1,2,3,4} - a set\n",
    "my_func(1,2,3) - a function call (even if the function returns None)"
   ]
  },
  {
   "cell_type": "markdown",
   "id": "9c7abddc",
   "metadata": {},
   "source": [
    "### Q.5 This assignment statements, like spam = 10. What is the difference between an expression and a statement?"
   ]
  },
  {
   "cell_type": "markdown",
   "id": "018a74f8",
   "metadata": {},
   "source": [
    "A statement is a complete line of code that performs some action, while an expression is any section of the code that evaluates to a value. Expressions can be combined “horizontally” into larger expressions using operators, while statements can only be combined “vertically” by writing one after another, or with block constructs. Every expression can be used as a statement (whose effect is to evaluate the expression and ignore the resulting value), but most statements cannot be used as expressions."
   ]
  },
  {
   "cell_type": "markdown",
   "id": "99adaba3",
   "metadata": {},
   "source": [
    "### Q.6 After running the following code, what does the variable bacon contain? "
   ]
  },
  {
   "cell_type": "code",
   "execution_count": 1,
   "id": "6862556b",
   "metadata": {},
   "outputs": [
    {
     "data": {
      "text/plain": [
       "23"
      ]
     },
     "execution_count": 1,
     "metadata": {},
     "output_type": "execute_result"
    }
   ],
   "source": [
    "bacon=22  # it gives 23 after running code.\n",
    "bacon+1"
   ]
  },
  {
   "cell_type": "markdown",
   "id": "70e884ac",
   "metadata": {},
   "source": [
    "### Q.7 What should the values of the following two terms be? 'spam' + 'spamspam',    'spam' * 3 "
   ]
  },
  {
   "cell_type": "markdown",
   "id": "4ba8cf92",
   "metadata": {},
   "source": [
    "Ans. The values for bpoth the terms are same"
   ]
  },
  {
   "cell_type": "code",
   "execution_count": 2,
   "id": "16e4e3d8",
   "metadata": {},
   "outputs": [
    {
     "data": {
      "text/plain": [
       "'spamspamspam'"
      ]
     },
     "execution_count": 2,
     "metadata": {},
     "output_type": "execute_result"
    }
   ],
   "source": [
    "'spam'+'spamspam'"
   ]
  },
  {
   "cell_type": "code",
   "execution_count": 3,
   "id": "fd39713f",
   "metadata": {},
   "outputs": [
    {
     "data": {
      "text/plain": [
       "'spamspamspam'"
      ]
     },
     "execution_count": 3,
     "metadata": {},
     "output_type": "execute_result"
    }
   ],
   "source": [
    "'spam'*3"
   ]
  },
  {
   "cell_type": "markdown",
   "id": "ab0abb23",
   "metadata": {},
   "source": [
    "### Q.8  Why is eggs a valid variable name while 100 is invalid?"
   ]
  },
  {
   "cell_type": "markdown",
   "id": "f27b798f",
   "metadata": {},
   "source": [
    "Ans. Variable name should begin with a string like alphabet name then integer e100 or eggs100 is valid where as 100 is not valid. It must include a alphabet character before numeric"
   ]
  },
  {
   "cell_type": "markdown",
   "id": "492b1dd0",
   "metadata": {},
   "source": [
    "###  Q.9 What three functions can be used to get the integer, floating-point number, or string version of a value?"
   ]
  },
  {
   "cell_type": "markdown",
   "id": "f05aed54",
   "metadata": {},
   "source": [
    "Ans. integer- int()\n",
    "     floating point number_float()\n",
    "    string-str()"
   ]
  },
  {
   "cell_type": "markdown",
   "id": "fc481b66",
   "metadata": {},
   "source": [
    "### Q.10 Why does this expression cause an error? How can you fix it?   'you  have eaten' + 99 + 'burritos' "
   ]
  },
  {
   "cell_type": "markdown",
   "id": "36160105",
   "metadata": {},
   "source": [
    "Ans.99 is an integer and it cannot be concatenated with strings.Inorder to do do that we need to do typecasting "
   ]
  },
  {
   "cell_type": "code",
   "execution_count": null,
   "id": "9bc1a742",
   "metadata": {},
   "outputs": [],
   "source": []
  }
 ],
 "metadata": {
  "kernelspec": {
   "display_name": "Python 3 (ipykernel)",
   "language": "python",
   "name": "python3"
  },
  "language_info": {
   "codemirror_mode": {
    "name": "ipython",
    "version": 3
   },
   "file_extension": ".py",
   "mimetype": "text/x-python",
   "name": "python",
   "nbconvert_exporter": "python",
   "pygments_lexer": "ipython3",
   "version": "3.9.7"
  }
 },
 "nbformat": 4,
 "nbformat_minor": 5
}
